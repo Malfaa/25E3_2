{
  "nbformat": 4,
  "nbformat_minor": 0,
  "metadata": {
    "colab": {
      "provenance": []
    },
    "kernelspec": {
      "name": "python3",
      "display_name": "Python 3"
    },
    "language_info": {
      "name": "python"
    }
  },
  "cells": [
    {
      "cell_type": "code",
      "execution_count": 6,
      "metadata": {
        "colab": {
          "base_uri": "https://localhost:8080/"
        },
        "id": "VGm9qkfz808L",
        "outputId": "d095aebd-987e-46a4-d69c-ae03861efccc"
      },
      "outputs": [
        {
          "output_type": "stream",
          "name": "stdout",
          "text": [
            "=== Exercício 1 ===\n",
            "Alerta: verificar origem de transferência\n"
          ]
        }
      ],
      "source": [
        "## EXERCÍCIO 1\n",
        "print(\"=== Exercício 1 ===\")\n",
        "\n",
        "VALOR_TRANSACAO = 100000\n",
        "TIPO_TRANSACAO = \"transferência\"\n",
        "CODIGO_CLIENTE = 10\n",
        "ANO_2_DIGITOS = 99\n",
        "var_auxiliar = 1000 * ANO_2_DIGITOS\n",
        "\n",
        "def transacao_bancaria():\n",
        "  \"\"\" Função que verifica o tipo de transação, imprimindo na tela e emitindo\n",
        "  aviso caso as condições sejam compatíveis \"\"\"\n",
        "  if VALOR_TRANSACAO > var_auxiliar and TIPO_TRANSACAO == \"transferência\":\n",
        "    print(\"Alerta: verificar origem de transferência\")\n",
        "  elif TIPO_TRANSACAO == \"saque\":\n",
        "    print(\"Alerta: confirmar com o cliente\")\n",
        "  else:\n",
        "    print(\"Transação normal\")\n",
        "\n",
        "transacao_bancaria()"
      ]
    },
    {
      "cell_type": "code",
      "source": [
        "## EXERCÍCIO 2\n",
        "print(\"=== Exercício 2 ===\")\n",
        "\n",
        "tempo_empresa_anos = 3\n",
        "nota_avaliacao = 8.5\n",
        "carga_horaria = 420\n",
        "\n",
        "def verificar_promocional():\n",
        "  \"\"\" Função que verifica se o colaborador é válido para promoção ou não\"\"\"\n",
        "  if tempo_empresa_anos > 2 and nota_avaliacao >= 8.0:\n",
        "    print(\"Elegível para promoção\")\n",
        "  else:\n",
        "    print(\"Aguardando próxima avaliação\")\n",
        "\n",
        "verificar_promocional()"
      ],
      "metadata": {
        "colab": {
          "base_uri": "https://localhost:8080/"
        },
        "id": "hS0QyUwKUCi-",
        "outputId": "ff32fe8a-2c67-4576-cee7-d296fce6de3a"
      },
      "execution_count": 10,
      "outputs": [
        {
          "output_type": "stream",
          "name": "stdout",
          "text": [
            "=== Exercício 2 ===\n",
            "Elegível para promoção\n"
          ]
        }
      ]
    },
    {
      "cell_type": "code",
      "source": [
        "## EXERCÍCIO 3\n",
        "print(\"=== Exercício 3 ===\")\n",
        "\n",
        "distancia_km = 350\n",
        "clima = \"chuva\"\n",
        "zona_entrega = \"rural\"\n",
        "\n",
        "def verificar_atraso():\n",
        "  \"\"\" Função que verifica se há atraso na entrega ou não dependendo das condições requeridas \"\"\"\n",
        "  if distancia_km > 300 and (clima == \"chuva\" or zona_entrega == \"rural\"):\n",
        "    print(\"Risco alto de atraso\")\n",
        "  else:\n",
        "    print(\"Entrega dentro do previsto\")\n",
        "\n",
        "verificar_atraso()"
      ],
      "metadata": {
        "colab": {
          "base_uri": "https://localhost:8080/"
        },
        "id": "t1A8Z9x2UzFB",
        "outputId": "60c22a7c-885e-41c4-c7b1-da9e7c573a58"
      },
      "execution_count": 14,
      "outputs": [
        {
          "output_type": "stream",
          "name": "stdout",
          "text": [
            "=== Exercício 3 ===\n",
            "Risco alto de atraso\n"
          ]
        }
      ]
    },
    {
      "cell_type": "code",
      "source": [
        "## EXERCÍCIO 4\n",
        "print(\"=== Exercício 4 ===\")\n",
        "\n",
        "def tratar_sensores(codigo, temperatura):\n",
        "  \"\"\" Função que recebe um parâmetro e verifica as condições, imrprimindo na tela sua devida mensagem \"\"\"\n",
        "  if codigo == \"F1\" and temperatura < 40:\n",
        "    print(\"Reiniciar máquina\")\n",
        "  elif codigo == \"F2\" and temperatura > 60:\n",
        "    print(\"Verificar conexão elétrica e sistema de refrigeração\")\n",
        "  elif codigo == \"F3\" and temperatura in range(45, 55):\n",
        "    print(\"Ajustar temperatura da esteira\")\n",
        "  elif codigo == \"F4\":\n",
        "    print(\"Realizar diagnóstico dos sensores ópticos\")\n",
        "  else:\n",
        "    print(\"Falha não reconhecida pelo sistema de alarme. Acionar engenheiro responsável\")\n",
        "\n",
        "tratar_sensores('F1', 10)"
      ],
      "metadata": {
        "colab": {
          "base_uri": "https://localhost:8080/"
        },
        "id": "7c3q3haTWOUX",
        "outputId": "51918c6b-e76c-4755-c330-71200a73cb7f"
      },
      "execution_count": 23,
      "outputs": [
        {
          "output_type": "stream",
          "name": "stdout",
          "text": [
            "=== Exercício 4 ===\n",
            "Reiniciar máquina\n"
          ]
        }
      ]
    },
    {
      "cell_type": "code",
      "source": [
        "## EXERCÍCIO 5\n",
        "print(\"=== Exercício 5 ===\")\n",
        "\n",
        "notas_avaliacao = [5, 8, 10, 6, 9, 4]\n",
        "\n",
        "def percorrer_lista():\n",
        "  \"\"\" Essa função percorre uma lista de números e verifica se a nota é maior que 7, caso positivo imprime na tela \"\"\"\n",
        "  for nota in notas_avaliacao:\n",
        "    if nota > 7:\n",
        "      print(f\"{nota}\")\n",
        "\n",
        "\n",
        "percorrer_lista()"
      ],
      "metadata": {
        "colab": {
          "base_uri": "https://localhost:8080/"
        },
        "id": "dDXLHaTLX4dw",
        "outputId": "6d3ab18f-b774-49d1-9adf-665058a14829"
      },
      "execution_count": 24,
      "outputs": [
        {
          "output_type": "stream",
          "name": "stdout",
          "text": [
            "=== Exercício 5 ===\n",
            "8\n",
            "10\n",
            "9\n"
          ]
        }
      ]
    },
    {
      "cell_type": "code",
      "source": [
        "## EXERCÍCIO 6\n",
        "print(\"=== Exercício 6 ===\")\n",
        "\n",
        "def criarLista():\n",
        "    \"\"\" Esta função cria uma lista de 0 a 50 somando de 5 em 5 \"\"\"\n",
        "    return list(range(0,51,5))\n",
        "\n",
        "print(criarLista())"
      ],
      "metadata": {
        "colab": {
          "base_uri": "https://localhost:8080/"
        },
        "id": "b9jQh5YrZgMv",
        "outputId": "1adc55a2-6a4e-437c-f4de-8e9db8fd5b7a"
      },
      "execution_count": null,
      "outputs": [
        {
          "output_type": "stream",
          "name": "stdout",
          "text": [
            "=== Exercício 6 ===\n",
            "[0, 5, 10, 15, 20, 25, 30, 35, 40, 45, 50]\n"
          ]
        }
      ]
    },
    {
      "cell_type": "code",
      "source": [
        "## EXERCÍCIO 7\n",
        "print(\"=== Exercício 7 ===\")\n",
        "\n",
        "def controlar_conexao():\n",
        "  \"\"\" Função percorre uma lista e verifica se há conexão caso limite de\n",
        "  tentativas seja menor ou igual a 3\"\"\"\n",
        "  tentativas_conexao = [False, False, False, True, True]\n",
        "  tentativas=0\n",
        "  limite_tentativas = 3\n",
        "  while tentativas <= limite_tentativas:\n",
        "    if tentativas_conexao[tentativas] == True:\n",
        "      print(\"Conectado!\")\n",
        "      break\n",
        "    elif tentativas == limite_tentativas:\n",
        "      print(\"Conexão interrompida após limite de tentativas\")\n",
        "      break\n",
        "    else:\n",
        "      print(\"Tentando reconectar...\")\n",
        "      tentativas+=1\n",
        "      continue\n",
        "\n",
        "controlar_conexao()"
      ],
      "metadata": {
        "colab": {
          "base_uri": "https://localhost:8080/"
        },
        "id": "f2fpcMtl4Rzg",
        "outputId": "b3cb71bc-8adb-4adb-fd8a-20f2736c338e"
      },
      "execution_count": 26,
      "outputs": [
        {
          "output_type": "stream",
          "name": "stdout",
          "text": [
            "=== Exercício 7 ===\n",
            "Tentando reconectar...\n",
            "Tentando reconectar...\n",
            "Tentando reconectar...\n",
            "Conectado!\n"
          ]
        }
      ]
    },
    {
      "cell_type": "code",
      "source": [
        "## EXERCÍCIO 8\n",
        "print(\"=== Exercício 8 ===\")\n",
        "\n",
        "pedidos = [\"P123\", \"P456\", \"P789\"]\n",
        "pedido_a_substituir = \"P456\"\n",
        "prioridade_urgente = True\n",
        "pedido_urgente = \"P999\"\n",
        "\n",
        "def reorganizar_pedidos():\n",
        "  \"\"\" Função que reorganiza uma fila baseado nas condições requeridas \"\"\"\n",
        "  if prioridade_urgente == True:\n",
        "    pedidos.insert(0, pedido_urgente)\n",
        "    print(f\"Fila final (Cenário A): {pedidos}.\")\n",
        "  else:\n",
        "    for i in pedidos:\n",
        "      if i == pedido_a_substituir:\n",
        "        indice = pedidos.index(i)\n",
        "        pedidos[indice] = pedido_urgente\n",
        "        print(f\"Fila final (Cenário B): {pedidos}.\")\n",
        "        return\n",
        "    print(f\"Fila final (Cenário C): {pedidos}.\")\n",
        "\n",
        "reorganizar_pedidos()\n"
      ],
      "metadata": {
        "colab": {
          "base_uri": "https://localhost:8080/"
        },
        "id": "QmrgUb2q-mc8",
        "outputId": "c1bf2275-62f6-48b0-c446-7095e2d9aff3"
      },
      "execution_count": 35,
      "outputs": [
        {
          "output_type": "stream",
          "name": "stdout",
          "text": [
            "=== Exercício 8 ===\n",
            "Fila final (Cenário A): ['P999', 'P123', 'P456', 'P789'].\n"
          ]
        }
      ]
    },
    {
      "cell_type": "markdown",
      "source": [
        "Exercicio 9"
      ],
      "metadata": {
        "id": "s_JUi89zIcyk"
      }
    },
    {
      "cell_type": "code",
      "source": [
        "# EXERCÍCIO 9\n",
        "print(\"=== Exercício 9 ===\")\n",
        "\n",
        "produtos_a = [\"banana\", \"maçã\"]\n",
        "\n",
        "produtos_b = [\"laranja\", \"pera\"]\n",
        "\n",
        "produtos_c = [\"laranja\", \"banana\", \"maçã\", \"romã\"]\n",
        "\n",
        "def estoque_produtos():\n",
        "  \"\"\" Função imprime na tela total de estoque de cada produto\"\"\"\n",
        "  estoque_total = produtos_a + produtos_b + produtos_c\n",
        "\n",
        "  print(estoque_total)\n",
        "\n",
        "  print(f\"Banana: {estoque_total.count('banana')}\\n\"+\n",
        "          f\"Maçã: {estoque_total.count('maçã')}\\n\"+\n",
        "          f\"Pera: {estoque_total.count('pera')}\\n\"+\n",
        "          f\"Laranja: {estoque_total.count('laranja')}\\n\"+\n",
        "          f\"Romã: {estoque_total.count('romã')}\\n\")\n",
        "\n",
        "estoque_produtos()"
      ],
      "metadata": {
        "id": "jGX4QZxLIfF-",
        "colab": {
          "base_uri": "https://localhost:8080/"
        },
        "outputId": "24401d25-0969-4882-aa1b-0aaf98398819"
      },
      "execution_count": 36,
      "outputs": [
        {
          "output_type": "stream",
          "name": "stdout",
          "text": [
            "=== Exercício 9 ===\n",
            "['banana', 'maçã', 'laranja', 'pera', 'laranja', 'banana', 'maçã', 'romã']\n",
            "Banana: 2\n",
            "Maçã: 2\n",
            "Pera: 1\n",
            "Laranja: 2\n",
            "Romã: 1\n",
            "\n"
          ]
        }
      ]
    },
    {
      "cell_type": "code",
      "source": [
        "# EXERCÍCIO 10\n",
        "print(\"=== Exercício 10 ===\")\n",
        "\n",
        "data_atual = \"2025-08-12\"\n",
        "boletos = [\"2025-08-05\",  # vencido\n",
        "           \"2025-08-12\",  # vence hoje\n",
        "           \"2025-08-15\",  # ainda válido\n",
        "           \"2025-08-01\",\n",
        "           \"2025-09-02\",\n",
        "           \"2025-08-20\",\n",
        "           \"2025-08-06\",\n",
        "           \"2025-08-12\",]  # vencido\n",
        "\n",
        "def verificar_boletos():\n",
        "  \"\"\" Função verifica situação de boleto, imprime na tela seu status e\n",
        "  quantidade de boletos vencidos\"\"\"\n",
        "  boletos_vencidos = 0\n",
        "  for index, boleto in enumerate(boletos):\n",
        "    index+=1\n",
        "    if boleto < data_atual:\n",
        "      print(f\"Boleto: {index} | Vencimento: {boleto} | Situação: vencido\")\n",
        "      boletos_vencidos+=1\n",
        "    elif boleto == data_atual:\n",
        "      print(f\"Boleto: {index} | Vencimento: {boleto} | Situação: vence hoje\")\n",
        "    else:\n",
        "      print(f\"Boleto: {index} | Vencimento: {boleto} | Situação: dentro do prazo\")\n",
        "  print(f\"\\nTotal de boletos vencidos: {boletos_vencidos}\")\n",
        "\n",
        "verificar_boletos()\n"
      ],
      "metadata": {
        "colab": {
          "base_uri": "https://localhost:8080/"
        },
        "id": "v9cXdsdndbJ7",
        "outputId": "979a20bf-ef23-4ff4-c99e-7c88bc43706d"
      },
      "execution_count": 37,
      "outputs": [
        {
          "output_type": "stream",
          "name": "stdout",
          "text": [
            "=== Exercício 10 ===\n",
            "Boleto: 1 | Vencimento: 2025-08-05 | Situação: vencido\n",
            "Boleto: 2 | Vencimento: 2025-08-12 | Situação: vence hoje\n",
            "Boleto: 3 | Vencimento: 2025-08-15 | Situação: dentro do prazo\n",
            "Boleto: 4 | Vencimento: 2025-08-01 | Situação: vencido\n",
            "Boleto: 5 | Vencimento: 2025-09-02 | Situação: dentro do prazo\n",
            "Boleto: 6 | Vencimento: 2025-08-20 | Situação: dentro do prazo\n",
            "Boleto: 7 | Vencimento: 2025-08-06 | Situação: vencido\n",
            "Boleto: 8 | Vencimento: 2025-08-12 | Situação: vence hoje\n",
            "\n",
            "Total de boletos vencidos: 3\n"
          ]
        }
      ]
    },
    {
      "cell_type": "code",
      "source": [
        "# EXERCÍCIO 11\n",
        "print(\"=== Exercício 11 ===\")\n",
        "\n",
        "mensagem_encriptada = \"SbwKrQ eh phokRu q MDydvfulsW\"\n",
        "mensagem_decifrada  = ''\n",
        "\n",
        "def cifra_cesar():\n",
        "  \"\"\" \"\"\"\n",
        "  contagem_D = mensagem_encriptada.count(\"D\")\n",
        "  contagem_d = mensagem_encriptada.count(\"d\")\n",
        "  contagem_W = mensagem_encriptada.count(\"W\")\n",
        "\n",
        "  chave = contagem_D + contagem_d + contagem_W\n",
        "  print(f\"A chave para decodificar é: {chave}\")\n",
        "\n",
        "  palavra_atual  = ''\n",
        "  mensagem_decifrada = ''\n",
        "  for letra in mensagem_encriptada + ' ':\n",
        "    if letra != \" \":\n",
        "      palavra_atual = palavra_atual + letra\n",
        "    else:\n",
        "      if len(palavra_atual) > 3:\n",
        "        palavra_decifrada  = ''\n",
        "        for char in palavra_atual:\n",
        "          codigo = ord(char)\n",
        "          novo_codigo = codigo - chave\n",
        "          if 'A' <= char <= 'Z':\n",
        "            if novo_codigo < ord('A'):\n",
        "              novo_codigo = novo_codigo + 26\n",
        "          elif 'a' <= char <= 'z':\n",
        "            if novo_codigo < ord('a'):\n",
        "              novo_codigo = novo_codigo + 26\n",
        "\n",
        "          palavra_decifrada  = palavra_decifrada  + chr(novo_codigo)\n",
        "\n",
        "        mensagem_decifrada  = mensagem_decifrada + palavra_decifrada\n",
        "      else:\n",
        "        mensagem_decifrada  = mensagem_decifrada  + palavra_atual\n",
        "\n",
        "      mensagem_decifrada = mensagem_decifrada + \" \"\n",
        "      palavra_atual = \"\"\n",
        "\n",
        "\n",
        "  # https://pt.wikipedia.org/wiki/Cifra_de_C%C3%A9sar\n",
        "  print(f\"A mensagem desencriptada é: {mensagem_decifrada.strip()}\")\n",
        "\n",
        "cifra_cesar()"
      ],
      "metadata": {
        "id": "cW0M-W49pVkx",
        "colab": {
          "base_uri": "https://localhost:8080/"
        },
        "outputId": "027c63f7-5753-4675-b9be-161b8d9b5095"
      },
      "execution_count": 38,
      "outputs": [
        {
          "output_type": "stream",
          "name": "stdout",
          "text": [
            "=== Exercício 11 ===\n",
            "A chave para decodificar é: 3\n",
            "A mensagem desencriptada é: PytHoN eh melhOr q JAvascripT\n"
          ]
        }
      ]
    },
    {
      "cell_type": "code",
      "source": [
        "# EXERCÍCIO 12\n",
        "print(\"=== Exercício 12 ===\")\n",
        "\n",
        "lista_temperaturas = [28,31,27,35,29]\n",
        "\n",
        "def verifica_temperatura():\n",
        "  \"\"\" Função verifica item de lista e imprime na tela caso condição é verdadeira \"\"\"\n",
        "  for index, temperatura in enumerate(lista_temperaturas):\n",
        "    index+=1\n",
        "    if temperatura > 30:\n",
        "      print(f\"Sensor {index} acima do limite\")\n",
        "\n",
        "verifica_temperatura()"
      ],
      "metadata": {
        "colab": {
          "base_uri": "https://localhost:8080/"
        },
        "id": "-xs46yFJpX0q",
        "outputId": "c4763c5e-e4e6-4ae3-b201-a396cf7ea1eb"
      },
      "execution_count": 43,
      "outputs": [
        {
          "output_type": "stream",
          "name": "stdout",
          "text": [
            "=== Exercício 12 ===\n",
            "Sensor 2 acima do limite\n",
            "Sensor 4 acima do limite\n"
          ]
        }
      ]
    }
  ]
}